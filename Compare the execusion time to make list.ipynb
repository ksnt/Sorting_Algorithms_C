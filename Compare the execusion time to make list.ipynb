{
 "cells": [
  {
   "cell_type": "code",
   "execution_count": 19,
   "metadata": {},
   "outputs": [],
   "source": [
    "%matplotlib inline\n",
    "import matplotlib.pyplot as plt\n",
    "import matplotlib\n",
    "plt.style.use('ggplot')"
   ]
  },
  {
   "cell_type": "code",
   "execution_count": 33,
   "metadata": {},
   "outputs": [
    {
     "name": "stdout",
     "output_type": "stream",
     "text": [
      "('concat ', 4.51686692237854, 'miliseconds')\n",
      "('append ', 0.24817991256713867, 'miliseconds')\n",
      "('comprehension ', 0.09092307090759277, 'miliseconds')\n",
      "('list range ', 0.0265810489654541, 'miliseconds')\n"
     ]
    }
   ],
   "source": [
    "# Import the Timer class\n",
    "from timeit import Timer\n",
    "\n",
    "def test1():\n",
    "\t\"\"\" addition of elements to list\"\"\"\n",
    "\tl = []\n",
    "\tfor i in range(1000):\n",
    "\t\tl = l + [i]\n",
    "\n",
    "def test2():\n",
    "\t\"\"\" append elements with list\"\"\"\n",
    "\tl = []\n",
    "\tfor i in range(1000):\n",
    "\t\tl.append(i)\n",
    "\n",
    "def test3():\n",
    "\t\"\"\" list comprehension\"\"\"\n",
    "\tl = [i for i in range(1000)]\n",
    "\n",
    "def test4():\n",
    "\t\"\"\" directly make list from random numbers\"\"\"\n",
    "\tl = list(range(1000))\n",
    "\n",
    "# measure time to execute the code above\n",
    "t1 = Timer(\"test1()\", \"from __main__ import test1\")\n",
    "t1_result = t1.timeit(number=1000)\n",
    "t1_label = \"concat\"\n",
    "print(\"concat \",t1_result,\"miliseconds\")\n",
    "t2 = Timer(\"test2()\", \"from __main__ import test2\")\n",
    "t2_result = t2.timeit(number=1000)\n",
    "t2_label = \"append\"\n",
    "print(\"append \",t2_result,\"miliseconds\")\n",
    "t3 = Timer(\"test3()\", \"from __main__ import test3\")\n",
    "t3_result = t3.timeit(number=1000)\n",
    "t3_label = \"comprehension\"\n",
    "print(\"comprehension \",t3_result,\"miliseconds\")\n",
    "t4 = Timer(\"test4()\", \"from __main__ import test4\")\n",
    "t4_result = t4.timeit(number=1000)\n",
    "t4_label = \"list range\"\n",
    "print(\"list range \",t4_result,\"miliseconds\")"
   ]
  },
  {
   "cell_type": "code",
   "execution_count": 34,
   "metadata": {},
   "outputs": [
    {
     "data": {
      "text/plain": [
       "4.51686692237854"
      ]
     },
     "execution_count": 34,
     "metadata": {},
     "output_type": "execute_result"
    }
   ],
   "source": [
    "t1_result"
   ]
  },
  {
   "cell_type": "code",
   "execution_count": 35,
   "metadata": {},
   "outputs": [],
   "source": [
    "N = 4\n",
    "n = range(N)"
   ]
  },
  {
   "cell_type": "code",
   "execution_count": 36,
   "metadata": {},
   "outputs": [
    {
     "data": {
      "text/plain": [
       "([<matplotlib.axis.XTick at 0x7fc73c9e6f50>,\n",
       "  <matplotlib.axis.XTick at 0x7fc73c938850>,\n",
       "  <matplotlib.axis.XTick at 0x7fc73c864350>,\n",
       "  <matplotlib.axis.XTick at 0x7fc73c86f5d0>],\n",
       " <a list of 4 Text xticklabel objects>)"
      ]
     },
     "execution_count": 36,
     "metadata": {},
     "output_type": "execute_result"
    },
    {
     "data": {
      "image/png": "[encoded data removed]",
      "text/plain": [
       "<matplotlib.figure.Figure at 0x7fc73c99cb10>"
      ]
     },
     "metadata": {},
     "output_type": "display_data"
    }
   ],
   "source": [
    "plt.bar(n,list([t1_result,t2_result,t3_result,t4_result]))\n",
    "plt.xticks(n, list([t1_label,t2_label,t3_label,t4_label]))\n",
    "#plt.bar([\"1.concat\",\"2.append\",\"3.comprehension\",\"4.list range\"],list([t1_result,t2_result,t3_result,t4_result]))"
   ]
  },
  {
   "cell_type": "code",
   "execution_count": 24,
   "metadata": {},
   "outputs": [
    {
     "data": {
      "text/plain": [
       "[0, 1, 2, 3]"
      ]
     },
     "execution_count": 24,
     "metadata": {},
     "output_type": "execute_result"
    }
   ],
   "source": [
    "list(range(4))"
   ]
  }
 ],
 "metadata": {
  "kernelspec": {
   "display_name": "Python 3",
   "language": "python",
   "name": "python3"
  },
  "language_info": {
   "codemirror_mode": {
    "name": "ipython",
    "version": 2
   },
   "file_extension": ".py",
   "mimetype": "text/x-python",
   "name": "python",
   "nbconvert_exporter": "python",
   "pygments_lexer": "ipython2",
   "version": "2.7.12"
  }
 },
 "nbformat": 4,
 "nbformat_minor": 2
}
